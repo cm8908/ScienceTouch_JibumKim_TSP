{
 "cells": [
  {
   "cell_type": "code",
   "execution_count": null,
   "metadata": {},
   "outputs": [],
   "source": [
    "# OR-Tools, PyTorch 설치\n",
    "!pip install torch\n",
    "!pip install ortools"
   ]
  },
  {
   "cell_type": "code",
   "execution_count": null,
   "metadata": {},
   "outputs": [],
   "source": [
    "import torch\n",
    "from model_search import TSP_net\n",
    "import numpy as np\n",
    "import matplotlib.pyplot as plt\n",
    "from matplotlib.animation import FuncAnimation\n",
    "from utils import compute_tour_length\n",
    "device = torch.device('cuda' if torch.cuda.is_available() else 'cpu')"
   ]
  },
  {
   "cell_type": "code",
   "execution_count": null,
   "metadata": {},
   "outputs": [],
   "source": [
    "N = 50\n",
    "\n",
    "# 50 개의 도시를 가진 랜덤 외판원 문제 생성\n",
    "data = torch.rand(N, 2).to(device)\n",
    "\n",
    "print(data.cpu().numpy())\n",
    "plt.scatter(data.cpu()[:,0], data.cpu()[:,1])"
   ]
  },
  {
   "cell_type": "code",
   "execution_count": null,
   "metadata": {},
   "outputs": [],
   "source": [
    "# Transformer 모델 만들기\n",
    "model = TSP_net('linear', None, None, 2, 128, 512, 6, 2, 8, 1000).to(device)\n",
    "\n",
    "# 경로 탐색 (Transformer + Greedy 알고리즘)\n",
    "tour, _, _, _ = model(data[None], 1, greedy=True, beamsearch=False)\n",
    "\n",
    "print('=<탐색 결과 (경로)>=')\n",
    "for i in range(tour.size(1)-1):\n",
    "    print(f'{tour[0][i].item()} -> ', end='')\n",
    "    if (i+1) % 10 == 0:\n",
    "        print()\n",
    "print(f'{tour[0][i+1].item()}')\n",
    "print()\n",
    "\n",
    "print('=<경로 길이>=')\n",
    "tour_length = compute_tour_length(data[None], tour)\n",
    "print(tour_length.item())"
   ]
  },
  {
   "cell_type": "code",
   "execution_count": null,
   "metadata": {},
   "outputs": [],
   "source": [
    "# 경로 그려보기\n",
    "plt.scatter(data.cpu()[:,0], data.cpu()[:,1])\n",
    "sorted_data = data.cpu()[tour[0].cpu()]\n",
    "plt.plot(sorted_data[:,0], sorted_data[:,1], color='black')\n",
    "plt.show()"
   ]
  },
  {
   "cell_type": "code",
   "execution_count": null,
   "metadata": {},
   "outputs": [],
   "source": [
    "# 미리 학습된 Transformer 모델 읽어오기\n",
    "checkpoint = torch.load('checkpoint/transformer_tsp50_demo.pt', map_location=torch.device('cuda'))\n",
    "model.load_state_dict(\n",
    "    checkpoint\n",
    ")\n",
    "model = model.to(device)"
   ]
  },
  {
   "cell_type": "code",
   "execution_count": null,
   "metadata": {},
   "outputs": [],
   "source": [
    "# 경로 탐색 (Transformer + Greedy 알고리즘)\n",
    "tour, _, _, _ = model(data[None], 1, greedy=True, beamsearch=False)\n",
    "\n",
    "print('=<탐색 결과 (경로)>=')\n",
    "for i in range(tour.size(1)-1):\n",
    "    print(f'{tour[0][i].item()} -> ', end='')\n",
    "    if (i+1) % 10 == 0:\n",
    "        print()\n",
    "print(f'{tour[0][i+1].item()}')\n",
    "print()\n",
    "\n",
    "print('=<경로 길이>=')\n",
    "tour_length = compute_tour_length(data[None], tour)\n",
    "print(tour_length.item())"
   ]
  },
  {
   "cell_type": "code",
   "execution_count": null,
   "metadata": {},
   "outputs": [],
   "source": [
    "# 경로 그려보기\n",
    "plt.scatter(data.cpu()[:,0], data.cpu()[:,1])\n",
    "sorted_data = data.cpu()[tour[0].cpu()]\n",
    "plt.plot(sorted_data[:,0], sorted_data[:,1], color='black')\n",
    "plt.plot((sorted_data[-1,0], sorted_data[0,0]), (sorted_data[-1,1], sorted_data[0,1]), color='black')\n",
    "plt.show()"
   ]
  },
  {
   "cell_type": "code",
   "execution_count": null,
   "metadata": {},
   "outputs": [],
   "source": [
    "from ortools.constraint_solver import pywrapcp\n",
    "from ortools.constraint_solver import routing_enums_pb2\n",
    "ortools_data = (data * 100).long()\n",
    "\n",
    "def create_data_model():\n",
    "    \"\"\"Stores the data for the problem.\"\"\"\n",
    "    data = {}\n",
    "    data[\"distance_matrix\"] = torch.cdist(ortools_data.float(), ortools_data.float()).long().cpu().numpy()\n",
    "    data[\"num_vehicles\"] = 1\n",
    "    data[\"depot\"] = 0\n",
    "    return data\n",
    "\n",
    "data_model = create_data_model()\n",
    "manager = pywrapcp.RoutingIndexManager(\n",
    "    len(data_model[\"distance_matrix\"]), data_model[\"num_vehicles\"], data_model[\"depot\"]\n",
    ")\n",
    "routing = pywrapcp.RoutingModel(manager)\n",
    "\n",
    "def distance_callback(from_index, to_index):\n",
    "    \"\"\"Returns the distance between the two nodes.\"\"\"\n",
    "    # Convert from routing variable Index to distance matrix NodeIndex.\n",
    "    from_node = manager.IndexToNode(from_index)\n",
    "    to_node = manager.IndexToNode(to_index)\n",
    "    return data_model[\"distance_matrix\"][from_node][to_node]\n",
    "\n",
    "transit_callback_index = routing.RegisterTransitCallback(distance_callback)\n",
    "  \n",
    "routing.SetArcCostEvaluatorOfAllVehicles(transit_callback_index)\n",
    "\n",
    "import time\n",
    "search_parameters = pywrapcp.DefaultRoutingSearchParameters()\n",
    "search_parameters.first_solution_strategy = (\n",
    "    routing_enums_pb2.FirstSolutionStrategy.PATH_CHEAPEST_ARC\n",
    ")\n",
    "def print_solution(manager, routing, solution):\n",
    "    \"\"\"Prints solution on console.\"\"\"\n",
    "    index = routing.Start(0)\n",
    "    plan_output = \"OR-Tools가 찾은 경로:\\n\"\n",
    "    route_distance = 0\n",
    "    tour = [0]\n",
    "    while not routing.IsEnd(index):\n",
    "        plan_output += f\" {manager.IndexToNode(index)} ->\"\n",
    "        previous_index = index\n",
    "        index = solution.Value(routing.NextVar(index))\n",
    "        route_distance += routing.GetArcCostForVehicle(previous_index, index, 0)\n",
    "        tour.append(index)\n",
    "    plan_output += f\" {manager.IndexToNode(index)}\\n\"\n",
    "    # print(plan_output)\n",
    "    del tour[-1]\n",
    "    return torch.LongTensor(tour).to(device)[None]\n",
    "\n",
    "solution = routing.SolveWithParameters(search_parameters)\n",
    "if solution:\n",
    "    tour = print_solution(manager, routing, solution)\n",
    "\n",
    "print('=<탐색 결과 (경로)>=')\n",
    "for i in range(tour.size(1)-1):\n",
    "    print(f'{tour[0][i].item()} -> ', end='')\n",
    "    if (i+1) % 10 == 0:\n",
    "        print()\n",
    "print(f'{tour[0][i+1].item()}')\n",
    "print()\n",
    "\n",
    "print('=<경로 길이>=')\n",
    "tour_length = compute_tour_length(data[None], tour)\n",
    "print(tour_length.item())\n",
    "\n",
    "# 경로 그려보기\n",
    "plt.scatter(data.cpu()[:,0], data.cpu()[:,1])\n",
    "sorted_data = data.cpu()[tour[0]]\n",
    "plt.plot(sorted_data[:,0], sorted_data[:,1], color='black')\n",
    "plt.plot((sorted_data[-1,0], sorted_data[0,0]), (sorted_data[-1,1], sorted_data[0,1]), color='black')\n",
    "plt.show()"
   ]
  }
 ],
 "metadata": {
  "kernelspec": {
   "display_name": "Python 3.10.5 ('pytorch')",
   "language": "python",
   "name": "python3"
  },
  "language_info": {
   "codemirror_mode": {
    "name": "ipython",
    "version": 3
   },
   "file_extension": ".py",
   "mimetype": "text/x-python",
   "name": "python",
   "nbconvert_exporter": "python",
   "pygments_lexer": "ipython3",
   "version": "3.8.5"
  },
  "orig_nbformat": 4,
  "vscode": {
   "interpreter": {
    "hash": "2d58e898dde0263bc564c6968b04150abacfd33eed9b19aaa8e45c040360e146"
   }
  }
 },
 "nbformat": 4,
 "nbformat_minor": 2
}
