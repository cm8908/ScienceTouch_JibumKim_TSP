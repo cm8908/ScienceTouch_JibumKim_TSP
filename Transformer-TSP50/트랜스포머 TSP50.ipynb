{
 "cells": [
  {
   "cell_type": "code",
   "execution_count": null,
   "metadata": {},
   "outputs": [],
   "source": [
    "# OR-Tools, PyTorch 설치\n",
    "!pip install torch\n",
    "!pip install ortools"
   ]
  },
  {
   "cell_type": "code",
   "execution_count": null,
   "metadata": {},
   "outputs": [],
   "source": [
    "# (Colab) 모델을 불러오기 위해 필요한 파일을 다운로드 받습니다.\n",
    "!wget https://raw.githubusercontent.com/cm8908/ScienceTouch_JibumKim_TSP/main/Transformer-TSP50/my_model_packages.py"
   ]
  },
  {
   "cell_type": "code",
   "execution_count": 2,
   "metadata": {},
   "outputs": [],
   "source": [
    "# 필요한 패키지들을 불러옵니다.\n",
    "import torch  # 파이토치 \n",
    "import matplotlib.pyplot as plt  # 시각화 패키지 (Matplotlib - pyplot)\n",
    "from my_model_packages import TSP_net, compute_tour_length  # 모델과 경로 길이를 계산해주는 함수를 불러옵니다\n",
    "device = torch.device('cuda' if torch.cuda.is_available() else 'cpu')  # GPU 사용이 가능한 경우 속도 향상을 위해 GPU를 사용합니다."
   ]
  },
  {
   "cell_type": "code",
   "execution_count": null,
   "metadata": {},
   "outputs": [],
   "source": [
    "N = 50  # 도시의 개수는 50개로 설정해주었습니다. 원하는 다른 숫자를 주어도 좋습니다.\n",
    "\n",
    "# 50 개의 도시를 가진 랜덤 외판원 문제 생성\n",
    "data = torch.rand(N, 2).to(device)\n",
    "\n",
    "# 콘솔에 데이터와 각 데이터의 위치를 표시해볼까요?\n",
    "print(data.cpu().numpy())\n",
    "plt.scatter(data.cpu()[:,0], data.cpu()[:,1])"
   ]
  },
  {
   "cell_type": "code",
   "execution_count": null,
   "metadata": {},
   "outputs": [],
   "source": [
    "# 딥러닝 모델인 Transformer 모델을 선언해줍니다. 아직 학습은 되지 않은 상태입니다.\n",
    "model = TSP_net('linear', None, None, 2, 128, 512, 6, 2, 8, 1000).to(device)\n",
    "\n",
    "# 경로 탐색을 시작합니다. (Transformer + Greedy 알고리즘)\n",
    "tour, _, _, _ = model(data[None], 1, greedy=True, beamsearch=False)\n",
    "\n",
    "print('=<탐색 결과 (경로)>=')\n",
    "for i in range(tour.size(1)-1):\n",
    "    print(f'{tour[0][i].item()} -> ', end='')\n",
    "    if (i+1) % 10 == 0:\n",
    "        print()\n",
    "print(f'{tour[0][i+1].item()}')\n",
    "print()\n",
    "\n",
    "print('=<경로 길이>=')\n",
    "tour_length = compute_tour_length(data[None], tour)\n",
    "print(tour_length.item())"
   ]
  },
  {
   "cell_type": "code",
   "execution_count": null,
   "metadata": {},
   "outputs": [],
   "source": [
    "# 경로 그려보기\n",
    "plt.scatter(data.cpu()[:,0], data.cpu()[:,1])\n",
    "sorted_data = data.cpu()[tour[0].cpu()]\n",
    "plt.plot(sorted_data[:,0], sorted_data[:,1], color='black')\n",
    "plt.show()"
   ]
  },
  {
   "cell_type": "code",
   "execution_count": 6,
   "metadata": {},
   "outputs": [],
   "source": [
    "# 이상한 경로가 나타난 것처럼 보이는 이유는, 아직 모델이 학습되지 않은 상태입니다.\n",
    "# 여기서 모델을 학습시키면 시간이 매우 오래 걸리기 때문에, 이전에 미리 학습을 시켜둔 모델을 불러와서 사용하겠습니다.\n",
    "# 미리 학습된 Transformer 모델 체크포인트 파일 읽어오기\n",
    "checkpoint = torch.load('checkpoint/transformer_tsp50_demo.pt', map_location=torch.device('cuda'))\n",
    "model.load_state_dict(\n",
    "    checkpoint\n",
    ")\n",
    "model = model.to(device)"
   ]
  },
  {
   "cell_type": "code",
   "execution_count": null,
   "metadata": {},
   "outputs": [],
   "source": [
    "# 경로 탐색을 시작합니다! (Transformer + Greedy 알고리즘)\n",
    "tour, _, _, _ = model(data[None], 1, greedy=True, beamsearch=False)\n",
    "\n",
    "print('=<탐색 결과 (경로)>=')\n",
    "for i in range(tour.size(1)-1):\n",
    "    print(f'{tour[0][i].item()} -> ', end='')\n",
    "    if (i+1) % 10 == 0:\n",
    "        print()\n",
    "print(f'{tour[0][i+1].item()}')\n",
    "print()\n",
    "\n",
    "print('=<경로 길이>=')\n",
    "tour_length = compute_tour_length(data[None], tour)\n",
    "print(tour_length.item())"
   ]
  },
  {
   "cell_type": "code",
   "execution_count": null,
   "metadata": {},
   "outputs": [],
   "source": [
    "# 경로 그려보기\n",
    "plt.scatter(data.cpu()[:,0], data.cpu()[:,1])\n",
    "sorted_data = data.cpu()[tour[0].cpu()]\n",
    "plt.plot(sorted_data[:,0], sorted_data[:,1], color='black')\n",
    "plt.plot((sorted_data[-1,0], sorted_data[0,0]), (sorted_data[-1,1], sorted_data[0,1]), color='black')\n",
    "plt.show()"
   ]
  },
  {
   "cell_type": "code",
   "execution_count": null,
   "metadata": {},
   "outputs": [],
   "source": [
    "# 이전에 봤던 OR-Tools와도 결과를 비교해보겠습니다.\n",
    "from ortools.constraint_solver import pywrapcp\n",
    "from ortools.constraint_solver import routing_enums_pb2\n",
    "ortools_data = (data * 100).long()\n",
    "\n",
    "# 데이터를 생성하는 함수\n",
    "def create_data_model():\n",
    "    data = {}\n",
    "    data[\"distance_matrix\"] = torch.cdist(ortools_data.float(), ortools_data.float()).long().cpu().numpy()\n",
    "    data[\"num_vehicles\"] = 1\n",
    "    data[\"depot\"] = 0\n",
    "    return data\n",
    "\n",
    "# 데이터를 생성하고 경로 탐색 매니저와 모델을 선언해줍니다.\n",
    "data_model = create_data_model()\n",
    "manager = pywrapcp.RoutingIndexManager(\n",
    "    len(data_model[\"distance_matrix\"]), data_model[\"num_vehicles\"], data_model[\"depot\"]\n",
    ")\n",
    "routing = pywrapcp.RoutingModel(manager)\n",
    "\n",
    "# 거리를 반환하는 함수\n",
    "def distance_callback(from_index, to_index):\n",
    "    # Convert from routing variable Index to distance matrix NodeIndex.\n",
    "    from_node = manager.IndexToNode(from_index)\n",
    "    to_node = manager.IndexToNode(to_index)\n",
    "    return data_model[\"distance_matrix\"][from_node][to_node]\n",
    "\n",
    "# 경로 탐색 모델에 거리 함수를 등록해줍니다.\n",
    "transit_callback_index = routing.RegisterTransitCallback(distance_callback)\n",
    "routing.SetArcCostEvaluatorOfAllVehicles(transit_callback_index)\n",
    "\n",
    "# 이전에 봤던 것처럼 필요한 초기값들을 설정해주는 코드입니다.\n",
    "search_parameters = pywrapcp.DefaultRoutingSearchParameters()\n",
    "search_parameters.first_solution_strategy = (\n",
    "    routing_enums_pb2.FirstSolutionStrategy.PATH_CHEAPEST_ARC\n",
    ")\n",
    "\n",
    "# 탐색된 경로를 콘솔에 표시해주는 함수\n",
    "def print_solution(manager, routing, solution):\n",
    "    index = routing.Start(0)\n",
    "    plan_output = \"OR-Tools가 찾은 경로:\\n\"\n",
    "    route_distance = 0\n",
    "    tour = [0]\n",
    "    while not routing.IsEnd(index):\n",
    "        plan_output += f\" {manager.IndexToNode(index)} ->\"\n",
    "        previous_index = index\n",
    "        index = solution.Value(routing.NextVar(index))\n",
    "        route_distance += routing.GetArcCostForVehicle(previous_index, index, 0)\n",
    "        tour.append(index)\n",
    "    plan_output += f\" {manager.IndexToNode(index)}\\n\"\n",
    "    # print(plan_output)\n",
    "    del tour[-1]\n",
    "    return torch.LongTensor(tour).to(device)[None]\n",
    "\n",
    "# OR-Tools를 활용해 경로를 탐색하고 출력해봅시다.\n",
    "# Transformer와 OR-Tools 중 어느 것이 더 좋은 경로를 찾을까요? 경로 길이를 비교해봅시다.\n",
    "solution = routing.SolveWithParameters(search_parameters)\n",
    "if solution:\n",
    "    tour = print_solution(manager, routing, solution)\n",
    "\n",
    "print('=<탐색 결과 (경로)>=')\n",
    "for i in range(tour.size(1)-1):\n",
    "    print(f'{tour[0][i].item()} -> ', end='')\n",
    "    if (i+1) % 10 == 0:\n",
    "        print()\n",
    "print(f'{tour[0][i+1].item()}')\n",
    "print()\n",
    "\n",
    "print('=<경로 길이>=')\n",
    "tour_length = compute_tour_length(data[None], tour)\n",
    "print(tour_length.item())\n",
    "\n",
    "# 경로 그려보기\n",
    "plt.scatter(data.cpu()[:,0], data.cpu()[:,1])\n",
    "sorted_data = data.cpu()[tour[0]]\n",
    "plt.plot(sorted_data[:,0], sorted_data[:,1], color='black')\n",
    "plt.plot((sorted_data[-1,0], sorted_data[0,0]), (sorted_data[-1,1], sorted_data[0,1]), color='black')\n",
    "plt.show()"
   ]
  }
 ],
 "metadata": {
  "kernelspec": {
   "display_name": "Python 3.10.5 ('pytorch')",
   "language": "python",
   "name": "python3"
  },
  "language_info": {
   "codemirror_mode": {
    "name": "ipython",
    "version": 3
   },
   "file_extension": ".py",
   "mimetype": "text/x-python",
   "name": "python",
   "nbconvert_exporter": "python",
   "pygments_lexer": "ipython3",
   "version": "3.8.5"
  },
  "orig_nbformat": 4,
  "vscode": {
   "interpreter": {
    "hash": "2d58e898dde0263bc564c6968b04150abacfd33eed9b19aaa8e45c040360e146"
   }
  }
 },
 "nbformat": 4,
 "nbformat_minor": 2
}
